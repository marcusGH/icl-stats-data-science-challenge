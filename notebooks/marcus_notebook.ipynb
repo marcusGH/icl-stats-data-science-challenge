{
 "cells": [
  {
   "cell_type": "markdown",
   "id": "96b86bf1-b0f5-4d09-ab86-37216740fb1a",
   "metadata": {},
   "source": [
    "# ICL data science challenge"
   ]
  },
  {
   "cell_type": "markdown",
   "id": "6bd8fa1a-0fb1-4bc6-96a2-b70db2623526",
   "metadata": {
    "tags": []
   },
   "source": [
    "## EDA"
   ]
  },
  {
   "cell_type": "code",
   "execution_count": 4,
   "id": "6b6a0802-7e0b-4f12-abe2-4b139b168971",
   "metadata": {
    "tags": []
   },
   "outputs": [],
   "source": [
    "import pandas as pd\n",
    "import numpy as np\n",
    "import re"
   ]
  },
  {
   "cell_type": "code",
   "execution_count": 6,
   "id": "a54612a9-600d-40b2-b097-688888921625",
   "metadata": {
    "tags": []
   },
   "outputs": [],
   "source": [
    "train_path = \"../input/raw/train.csv\"\n",
    "preprocessed_path = \"../input/derived/train-preprocessed.csv\"\n",
    "cols = None\n",
    "data_lines = []\n",
    "\n",
    "with open(train_path, \"rt\") as fin:\n",
    "    with open(preprocessed_path, \"wt\") as fout:\n",
    "        for line in fin:\n",
    "            fout.write(line.replace('\\\\\"', \"'\"))\n",
    "\n",
    "\n",
    "# with open(train_path, \"r\") as f:\n",
    "#     for i, line in enumerate(f):\n",
    "#         if i == 0:\n",
    "#             cols = [re.sub('\\s+', '', x.strip('\"')).strip('\"') for x in line.split(\" \")]\n",
    "#         else:\n",
    "#             data_lines.append(line.split(' '))\n",
    "#             #print(len(data_lines[-1]))\n",
    "\n",
    "# print(len(cols))"
   ]
  },
  {
   "cell_type": "code",
   "execution_count": 7,
   "id": "20697b9f-5368-47e0-9e68-b9413eef11a6",
   "metadata": {
    "tags": []
   },
   "outputs": [
    {
     "data": {
      "text/html": [
       "<div>\n",
       "<style scoped>\n",
       "    .dataframe tbody tr th:only-of-type {\n",
       "        vertical-align: middle;\n",
       "    }\n",
       "\n",
       "    .dataframe tbody tr th {\n",
       "        vertical-align: top;\n",
       "    }\n",
       "\n",
       "    .dataframe thead th {\n",
       "        text-align: right;\n",
       "    }\n",
       "</style>\n",
       "<table border=\"1\" class=\"dataframe\">\n",
       "  <thead>\n",
       "    <tr style=\"text-align: right;\">\n",
       "      <th></th>\n",
       "      <th>Index</th>\n",
       "      <th>Artist</th>\n",
       "      <th>Track</th>\n",
       "      <th>Album</th>\n",
       "      <th>danceability</th>\n",
       "      <th>energy</th>\n",
       "      <th>loudness</th>\n",
       "      <th>speechiness</th>\n",
       "      <th>acousticness</th>\n",
       "      <th>instrumentalness</th>\n",
       "      <th>...</th>\n",
       "      <th>AnC</th>\n",
       "      <th>AnD</th>\n",
       "      <th>BnC</th>\n",
       "      <th>BnD</th>\n",
       "      <th>CnD</th>\n",
       "      <th>AnBnC</th>\n",
       "      <th>AnBnD</th>\n",
       "      <th>AnCnD</th>\n",
       "      <th>BnCnD</th>\n",
       "      <th>AnBnCnD</th>\n",
       "    </tr>\n",
       "  </thead>\n",
       "  <tbody>\n",
       "    <tr>\n",
       "      <th>0</th>\n",
       "      <td>1</td>\n",
       "      <td>tajima hal</td>\n",
       "      <td>Grape Choice</td>\n",
       "      <td>Grape Choice</td>\n",
       "      <td>0.704</td>\n",
       "      <td>0.5870</td>\n",
       "      <td>-9.815</td>\n",
       "      <td>0.3120</td>\n",
       "      <td>0.341</td>\n",
       "      <td>0.004510</td>\n",
       "      <td>...</td>\n",
       "      <td>0</td>\n",
       "      <td>0</td>\n",
       "      <td>0</td>\n",
       "      <td>0</td>\n",
       "      <td>0</td>\n",
       "      <td>0</td>\n",
       "      <td>0</td>\n",
       "      <td>0</td>\n",
       "      <td>0</td>\n",
       "      <td>0</td>\n",
       "    </tr>\n",
       "    <tr>\n",
       "      <th>1</th>\n",
       "      <td>2</td>\n",
       "      <td>CHROMANCE</td>\n",
       "      <td>Wrap Me In Plastic - Marcus Layton Radio Edit</td>\n",
       "      <td>Wrap Me In Plastic (Marcus Layton Radio Edit)</td>\n",
       "      <td>0.917</td>\n",
       "      <td>0.6120</td>\n",
       "      <td>-2.183</td>\n",
       "      <td>0.0854</td>\n",
       "      <td>0.238</td>\n",
       "      <td>0.000023</td>\n",
       "      <td>...</td>\n",
       "      <td>0</td>\n",
       "      <td>0</td>\n",
       "      <td>0</td>\n",
       "      <td>0</td>\n",
       "      <td>0</td>\n",
       "      <td>0</td>\n",
       "      <td>0</td>\n",
       "      <td>0</td>\n",
       "      <td>0</td>\n",
       "      <td>0</td>\n",
       "    </tr>\n",
       "    <tr>\n",
       "      <th>2</th>\n",
       "      <td>3</td>\n",
       "      <td>Stevie Wonder</td>\n",
       "      <td>Sir Duke</td>\n",
       "      <td>Songs In The Key Of Life</td>\n",
       "      <td>0.588</td>\n",
       "      <td>0.5680</td>\n",
       "      <td>-9.766</td>\n",
       "      <td>0.0672</td>\n",
       "      <td>0.160</td>\n",
       "      <td>0.000000</td>\n",
       "      <td>...</td>\n",
       "      <td>0</td>\n",
       "      <td>0</td>\n",
       "      <td>0</td>\n",
       "      <td>0</td>\n",
       "      <td>0</td>\n",
       "      <td>0</td>\n",
       "      <td>0</td>\n",
       "      <td>0</td>\n",
       "      <td>0</td>\n",
       "      <td>0</td>\n",
       "    </tr>\n",
       "    <tr>\n",
       "      <th>3</th>\n",
       "      <td>4</td>\n",
       "      <td>MishCatt</td>\n",
       "      <td>Midnight Sun - Acoustic Version</td>\n",
       "      <td>Midnight Sun (Acoustic Version)</td>\n",
       "      <td>0.590</td>\n",
       "      <td>0.0991</td>\n",
       "      <td>-15.925</td>\n",
       "      <td>0.0490</td>\n",
       "      <td>0.915</td>\n",
       "      <td>0.000005</td>\n",
       "      <td>...</td>\n",
       "      <td>0</td>\n",
       "      <td>0</td>\n",
       "      <td>0</td>\n",
       "      <td>0</td>\n",
       "      <td>0</td>\n",
       "      <td>0</td>\n",
       "      <td>0</td>\n",
       "      <td>0</td>\n",
       "      <td>0</td>\n",
       "      <td>0</td>\n",
       "    </tr>\n",
       "    <tr>\n",
       "      <th>4</th>\n",
       "      <td>5</td>\n",
       "      <td>Gloria Estefan</td>\n",
       "      <td>Sólo Por Tu Amor</td>\n",
       "      <td>Alma Caribeña</td>\n",
       "      <td>0.561</td>\n",
       "      <td>0.4770</td>\n",
       "      <td>-8.123</td>\n",
       "      <td>0.0355</td>\n",
       "      <td>0.295</td>\n",
       "      <td>0.000000</td>\n",
       "      <td>...</td>\n",
       "      <td>0</td>\n",
       "      <td>0</td>\n",
       "      <td>0</td>\n",
       "      <td>0</td>\n",
       "      <td>0</td>\n",
       "      <td>0</td>\n",
       "      <td>0</td>\n",
       "      <td>0</td>\n",
       "      <td>0</td>\n",
       "      <td>0</td>\n",
       "    </tr>\n",
       "    <tr>\n",
       "      <th>...</th>\n",
       "      <td>...</td>\n",
       "      <td>...</td>\n",
       "      <td>...</td>\n",
       "      <td>...</td>\n",
       "      <td>...</td>\n",
       "      <td>...</td>\n",
       "      <td>...</td>\n",
       "      <td>...</td>\n",
       "      <td>...</td>\n",
       "      <td>...</td>\n",
       "      <td>...</td>\n",
       "      <td>...</td>\n",
       "      <td>...</td>\n",
       "      <td>...</td>\n",
       "      <td>...</td>\n",
       "      <td>...</td>\n",
       "      <td>...</td>\n",
       "      <td>...</td>\n",
       "      <td>...</td>\n",
       "      <td>...</td>\n",
       "      <td>...</td>\n",
       "    </tr>\n",
       "    <tr>\n",
       "      <th>7588</th>\n",
       "      <td>7589</td>\n",
       "      <td>Some Sprouts</td>\n",
       "      <td>Someone You Love</td>\n",
       "      <td>Divinely Uninspired To A Hellish Extent</td>\n",
       "      <td>0.501</td>\n",
       "      <td>0.4050</td>\n",
       "      <td>-5.679</td>\n",
       "      <td>0.0319</td>\n",
       "      <td>0.751</td>\n",
       "      <td>0.000000</td>\n",
       "      <td>...</td>\n",
       "      <td>0</td>\n",
       "      <td>0</td>\n",
       "      <td>0</td>\n",
       "      <td>0</td>\n",
       "      <td>0</td>\n",
       "      <td>0</td>\n",
       "      <td>0</td>\n",
       "      <td>0</td>\n",
       "      <td>0</td>\n",
       "      <td>0</td>\n",
       "    </tr>\n",
       "    <tr>\n",
       "      <th>7589</th>\n",
       "      <td>7590</td>\n",
       "      <td>Sure Sure</td>\n",
       "      <td>Funky Galileo</td>\n",
       "      <td>Funky Galileo</td>\n",
       "      <td>0.802</td>\n",
       "      <td>0.3250</td>\n",
       "      <td>-9.327</td>\n",
       "      <td>0.0466</td>\n",
       "      <td>0.164</td>\n",
       "      <td>0.162000</td>\n",
       "      <td>...</td>\n",
       "      <td>0</td>\n",
       "      <td>0</td>\n",
       "      <td>0</td>\n",
       "      <td>0</td>\n",
       "      <td>0</td>\n",
       "      <td>0</td>\n",
       "      <td>0</td>\n",
       "      <td>0</td>\n",
       "      <td>0</td>\n",
       "      <td>0</td>\n",
       "    </tr>\n",
       "    <tr>\n",
       "      <th>7590</th>\n",
       "      <td>7591</td>\n",
       "      <td>The Flying Stars Of Brooklyn NY</td>\n",
       "      <td>Live On</td>\n",
       "      <td>My God Has a Telephone</td>\n",
       "      <td>0.513</td>\n",
       "      <td>0.6260</td>\n",
       "      <td>-8.843</td>\n",
       "      <td>0.0582</td>\n",
       "      <td>0.579</td>\n",
       "      <td>0.000633</td>\n",
       "      <td>...</td>\n",
       "      <td>0</td>\n",
       "      <td>0</td>\n",
       "      <td>0</td>\n",
       "      <td>0</td>\n",
       "      <td>0</td>\n",
       "      <td>0</td>\n",
       "      <td>0</td>\n",
       "      <td>0</td>\n",
       "      <td>0</td>\n",
       "      <td>0</td>\n",
       "    </tr>\n",
       "    <tr>\n",
       "      <th>7591</th>\n",
       "      <td>7592</td>\n",
       "      <td>Gasper Lawal</td>\n",
       "      <td>Kita Kita</td>\n",
       "      <td>Nigeria 70 - Funky Lagos</td>\n",
       "      <td>0.614</td>\n",
       "      <td>0.9070</td>\n",
       "      <td>-6.565</td>\n",
       "      <td>0.0472</td>\n",
       "      <td>0.062</td>\n",
       "      <td>0.772000</td>\n",
       "      <td>...</td>\n",
       "      <td>0</td>\n",
       "      <td>0</td>\n",
       "      <td>0</td>\n",
       "      <td>0</td>\n",
       "      <td>0</td>\n",
       "      <td>0</td>\n",
       "      <td>0</td>\n",
       "      <td>0</td>\n",
       "      <td>0</td>\n",
       "      <td>0</td>\n",
       "    </tr>\n",
       "    <tr>\n",
       "      <th>7592</th>\n",
       "      <td>7593</td>\n",
       "      <td>Henry And The Waiter</td>\n",
       "      <td>Good Day</td>\n",
       "      <td>Good Days</td>\n",
       "      <td>0.436</td>\n",
       "      <td>0.6550</td>\n",
       "      <td>-8.370</td>\n",
       "      <td>0.0583</td>\n",
       "      <td>0.499</td>\n",
       "      <td>0.000008</td>\n",
       "      <td>...</td>\n",
       "      <td>0</td>\n",
       "      <td>0</td>\n",
       "      <td>0</td>\n",
       "      <td>0</td>\n",
       "      <td>0</td>\n",
       "      <td>0</td>\n",
       "      <td>0</td>\n",
       "      <td>0</td>\n",
       "      <td>0</td>\n",
       "      <td>0</td>\n",
       "    </tr>\n",
       "  </tbody>\n",
       "</table>\n",
       "<p>7593 rows × 29 columns</p>\n",
       "</div>"
      ],
      "text/plain": [
       "      Index                           Artist  \\\n",
       "0         1                       tajima hal   \n",
       "1         2                        CHROMANCE   \n",
       "2         3                    Stevie Wonder   \n",
       "3         4                         MishCatt   \n",
       "4         5                   Gloria Estefan   \n",
       "...     ...                              ...   \n",
       "7588   7589                     Some Sprouts   \n",
       "7589   7590                        Sure Sure   \n",
       "7590   7591  The Flying Stars Of Brooklyn NY   \n",
       "7591   7592                     Gasper Lawal   \n",
       "7592   7593             Henry And The Waiter   \n",
       "\n",
       "                                              Track  \\\n",
       "0                                      Grape Choice   \n",
       "1     Wrap Me In Plastic - Marcus Layton Radio Edit   \n",
       "2                                          Sir Duke   \n",
       "3                   Midnight Sun - Acoustic Version   \n",
       "4                                  Sólo Por Tu Amor   \n",
       "...                                             ...   \n",
       "7588                               Someone You Love   \n",
       "7589                                  Funky Galileo   \n",
       "7590                                        Live On   \n",
       "7591                                      Kita Kita   \n",
       "7592                                       Good Day   \n",
       "\n",
       "                                              Album  danceability  energy  \\\n",
       "0                                      Grape Choice         0.704  0.5870   \n",
       "1     Wrap Me In Plastic (Marcus Layton Radio Edit)         0.917  0.6120   \n",
       "2                          Songs In The Key Of Life         0.588  0.5680   \n",
       "3                   Midnight Sun (Acoustic Version)         0.590  0.0991   \n",
       "4                                     Alma Caribeña         0.561  0.4770   \n",
       "...                                             ...           ...     ...   \n",
       "7588        Divinely Uninspired To A Hellish Extent         0.501  0.4050   \n",
       "7589                                  Funky Galileo         0.802  0.3250   \n",
       "7590                         My God Has a Telephone         0.513  0.6260   \n",
       "7591                       Nigeria 70 - Funky Lagos         0.614  0.9070   \n",
       "7592                                      Good Days         0.436  0.6550   \n",
       "\n",
       "      loudness  speechiness  acousticness  instrumentalness  ...  AnC  AnD  \\\n",
       "0       -9.815       0.3120         0.341          0.004510  ...    0    0   \n",
       "1       -2.183       0.0854         0.238          0.000023  ...    0    0   \n",
       "2       -9.766       0.0672         0.160          0.000000  ...    0    0   \n",
       "3      -15.925       0.0490         0.915          0.000005  ...    0    0   \n",
       "4       -8.123       0.0355         0.295          0.000000  ...    0    0   \n",
       "...        ...          ...           ...               ...  ...  ...  ...   \n",
       "7588    -5.679       0.0319         0.751          0.000000  ...    0    0   \n",
       "7589    -9.327       0.0466         0.164          0.162000  ...    0    0   \n",
       "7590    -8.843       0.0582         0.579          0.000633  ...    0    0   \n",
       "7591    -6.565       0.0472         0.062          0.772000  ...    0    0   \n",
       "7592    -8.370       0.0583         0.499          0.000008  ...    0    0   \n",
       "\n",
       "      BnC  BnD  CnD  AnBnC  AnBnD  AnCnD  BnCnD  AnBnCnD  \n",
       "0       0    0    0      0      0      0      0        0  \n",
       "1       0    0    0      0      0      0      0        0  \n",
       "2       0    0    0      0      0      0      0        0  \n",
       "3       0    0    0      0      0      0      0        0  \n",
       "4       0    0    0      0      0      0      0        0  \n",
       "...   ...  ...  ...    ...    ...    ...    ...      ...  \n",
       "7588    0    0    0      0      0      0      0        0  \n",
       "7589    0    0    0      0      0      0      0        0  \n",
       "7590    0    0    0      0      0      0      0        0  \n",
       "7591    0    0    0      0      0      0      0        0  \n",
       "7592    0    0    0      0      0      0      0        0  \n",
       "\n",
       "[7593 rows x 29 columns]"
      ]
     },
     "execution_count": 7,
     "metadata": {},
     "output_type": "execute_result"
    }
   ],
   "source": [
    "df = pd.read_csv(preprocessed_path, sep=r'\\s+', quotechar='\"')\n",
    "df"
   ]
  },
  {
   "cell_type": "markdown",
   "id": "845196d1-7a85-44a7-a015-629378606931",
   "metadata": {
    "tags": []
   },
   "source": [
    "## Sanity checking cells"
   ]
  },
  {
   "cell_type": "code",
   "execution_count": 51,
   "id": "cb830b4c-7d81-4057-89ad-8f05250cf7b7",
   "metadata": {},
   "outputs": [
    {
     "name": "stdout",
     "output_type": "stream",
     "text": [
      "234 A\n",
      "330 B\n",
      "752 A\n",
      "2016 B\n",
      "2261 A\n",
      "2419 A\n",
      "3531 B\n",
      "3863 B\n",
      "3873 B\n",
      "3873 B\n",
      "4375 A\n",
      "4997 B\n",
      "5230 B\n",
      "5466 B\n",
      "6337 A\n",
      "6362 A\n",
      "6627 B\n",
      "7372 B\n",
      "7432 A\n"
     ]
    }
   ],
   "source": [
    "temp = ['AnB', 'AnC', 'AnD', 'BnC', 'BnD', 'CnD',\n",
    "        'AnBnC', 'AnBnD', 'AnCnD', 'BnCnD', 'AnBnCnD']\n",
    "for i in range(len(df['A'])):\n",
    "    for c in temp:\n",
    "        row = df.iloc[i]\n",
    "        if row[c] == 1:\n",
    "            if 'A' in c:\n",
    "                if row['A'] == 0:\n",
    "                    print(row['Index'], 'A')\n",
    "            if 'B' in c:\n",
    "                if row['B'] == 0:\n",
    "                    print(row['Index'], 'B')\n",
    "            if 'C' in c:\n",
    "                if row['C'] == 0:\n",
    "                    print(row['Index'], 'C')\n",
    "            if 'D' in c:\n",
    "                if row['D'] == 0:\n",
    "                    print(row['Index'], 'D')"
   ]
  },
  {
   "cell_type": "code",
   "execution_count": 55,
   "id": "0cdd9c68-ea55-4c39-bfe4-1167608f61fe",
   "metadata": {
    "tags": []
   },
   "outputs": [
    {
     "data": {
      "text/plain": [
       "Index(['Index', 'Artist', 'Track', 'Album', 'danceability', 'energy',\n",
       "       'loudness', 'speechiness', 'acousticness', 'instrumentalness',\n",
       "       'liveness', 'tempo', 'length', 'time_signature', 'A', 'B', 'C', 'D',\n",
       "       'AnB', 'AnC', 'AnD', 'BnC', 'BnD', 'CnD', 'AnBnC', 'AnBnD', 'AnCnD',\n",
       "       'BnCnD', 'AnBnCnD'],\n",
       "      dtype='object')"
      ]
     },
     "execution_count": 55,
     "metadata": {},
     "output_type": "execute_result"
    }
   ],
   "source": [
    "df.columns"
   ]
  },
  {
   "cell_type": "markdown",
   "id": "8a507aee-8446-4a76-9e54-23a5ca4c748c",
   "metadata": {},
   "source": [
    "## Baseline model logistic regression"
   ]
  },
  {
   "cell_type": "code",
   "execution_count": 8,
   "id": "a6299193-72ab-46e5-b325-b30df74bc69f",
   "metadata": {
    "tags": []
   },
   "outputs": [],
   "source": [
    "df.columns\n",
    "feature_cols = ['danceability', 'energy',\n",
    "       'loudness', 'speechiness', 'acousticness', 'instrumentalness',\n",
    "       'liveness', 'tempo', 'length']\n",
    "target_cols = ['A', 'B', 'C', 'D']\n",
    "\n",
    "X = df[feature_cols].to_numpy()\n",
    "y = df[target_cols].to_numpy()"
   ]
  },
  {
   "cell_type": "code",
   "execution_count": 61,
   "id": "192e24e0-a5c3-491d-8a43-6437e793017a",
   "metadata": {
    "tags": []
   },
   "outputs": [
    {
     "data": {
      "text/plain": [
       "((7593, 10), (7593, 4))"
      ]
     },
     "execution_count": 61,
     "metadata": {},
     "output_type": "execute_result"
    }
   ],
   "source": [
    "X.shape, y.shape"
   ]
  },
  {
   "cell_type": "code",
   "execution_count": 69,
   "id": "12e5f2f2-820a-48ec-8d86-9d84114e39df",
   "metadata": {
    "tags": []
   },
   "outputs": [
    {
     "name": "stdout",
     "output_type": "stream",
     "text": [
      "Validation accuracy for class A: 0.6504\n",
      "Validation accuracy for class B: 0.6261\n",
      "Validation accuracy for class C: 0.9835\n",
      "Validation accuracy for class D: 0.8308\n",
      "Average validation accuracy: 0.7727123107307439\n"
     ]
    }
   ],
   "source": [
    "import sklearn\n",
    "from sklearn.linear_model import LogisticRegression\n",
    "from sklearn.model_selection import train_test_split\n",
    "from sklearn.metrics import accuracy_score\n",
    "from sklearn.preprocessing import StandardScaler\n",
    "\n",
    "scaler = StandardScaler()\n",
    "X_train, X_test, y_train, y_test = train_test_split(X, y, test_size=0.2, random_state=42)\n",
    "X_train = scaler.fit_transform(X_train)\n",
    "X_test = scaler.transform(X_test)\n",
    "\n",
    "logRegs = [LogisticRegression(), LogisticRegression(), LogisticRegression(), LogisticRegression()]\n",
    "accs = []\n",
    "\n",
    "for i in range(4):\n",
    "    logRegs[i].fit(X_train, y_train[:, i])\n",
    "    preds = logRegs[i].predict(X_test)\n",
    "    acc = accuracy_score(y_test[:, i], preds)\n",
    "    accs.append(acc)\n",
    "    print(f\"Validation accuracy for class {target_cols[i]}: {acc:.4f}\")\n",
    "print(f\"Average validation accuracy: {np.mean(accs)}\")"
   ]
  },
  {
   "cell_type": "code",
   "execution_count": 70,
   "id": "685cfc2c-034c-4238-900a-119c27b6164a",
   "metadata": {
    "tags": []
   },
   "outputs": [],
   "source": [
    "from src.preprocessing.data_formatting import get_preprocessed_data\n",
    "# produce predictions on test data\n",
    "df_test = get_preprocessed_data(\"../input/\", skip_preprocess=False, get_test=True)\n",
    "\n",
    "X_test = df_test[feature_cols].to_numpy()\n",
    "for i in range(4):\n",
    "    preds = logRegs[i].predict(X_test)\n",
    "    df_test[target_cols[i]] = preds"
   ]
  },
  {
   "cell_type": "code",
   "execution_count": 60,
   "id": "09f20cb3-d878-425a-860e-6b66ef1f708a",
   "metadata": {
    "tags": []
   },
   "outputs": [
    {
     "data": {
      "text/plain": [
       "0.04636459430979979"
      ]
     },
     "execution_count": 60,
     "metadata": {},
     "output_type": "execute_result"
    }
   ],
   "source": [
    "df_test['A'].mean()"
   ]
  },
  {
   "cell_type": "code",
   "execution_count": 73,
   "id": "b9a0b212-3b5c-4b39-a24c-2bfe4b88e352",
   "metadata": {
    "tags": []
   },
   "outputs": [],
   "source": [
    "def fill_remaining_cols(df):\n",
    "    extended_cols = ['AnB', 'AnC', 'AnD', 'BnC', 'BnD', 'CnD', 'AnBnC', 'AnBnD', 'AnCnD', 'BnCnD', 'AnBnCnD']\n",
    "    for i in range(len(df['A'])):\n",
    "        for c in extended_cols:\n",
    "            fill_val = True\n",
    "            for l in ['A', 'B', 'C', 'D']:\n",
    "                if l in c:\n",
    "                    fill_val = fill_val and (df.at[i, l] == 1)\n",
    "            # modify the cell\n",
    "            df.at[i, c] = int(fill_val)\n",
    "\n",
    "def submit_dataframe(df, submit_path):\n",
    "    df = df.reset_index()\n",
    "    assert len(df.columns) == 29\n",
    "    df_test.to_csv(submit_path, index=False, quotechar='\"', sep=' ')\n",
    "\n",
    "submit_dataframe(df_test, \"../output/2sigma.csv\")"
   ]
  },
  {
   "cell_type": "code",
   "execution_count": 63,
   "id": "3aae4d7b-8fdf-439c-9497-f302b9112cc0",
   "metadata": {
    "tags": []
   },
   "outputs": [
    {
     "data": {
      "text/plain": [
       "28"
      ]
     },
     "execution_count": 63,
     "metadata": {},
     "output_type": "execute_result"
    }
   ],
   "source": [
    "len(df_test.columns)"
   ]
  }
 ],
 "metadata": {
  "kernelspec": {
   "display_name": "cudf_torch",
   "language": "python",
   "name": "cudf_torch"
  },
  "language_info": {
   "codemirror_mode": {
    "name": "ipython",
    "version": 3
   },
   "file_extension": ".py",
   "mimetype": "text/x-python",
   "name": "python",
   "nbconvert_exporter": "python",
   "pygments_lexer": "ipython3",
   "version": "3.10.11"
  }
 },
 "nbformat": 4,
 "nbformat_minor": 5
}
