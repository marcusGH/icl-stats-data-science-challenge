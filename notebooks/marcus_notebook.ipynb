{
 "cells": [
  {
   "cell_type": "markdown",
   "id": "96b86bf1-b0f5-4d09-ab86-37216740fb1a",
   "metadata": {},
   "source": [
    "# ICL data science challenge"
   ]
  },
  {
   "cell_type": "markdown",
   "id": "6bd8fa1a-0fb1-4bc6-96a2-b70db2623526",
   "metadata": {
    "tags": []
   },
   "source": [
    "## EDA"
   ]
  },
  {
   "cell_type": "code",
   "execution_count": 2,
   "id": "6b6a0802-7e0b-4f12-abe2-4b139b168971",
   "metadata": {
    "tags": []
   },
   "outputs": [],
   "source": [
    "import xgboost as xgb"
   ]
  },
  {
   "cell_type": "code",
   "execution_count": null,
   "id": "cb830b4c-7d81-4057-89ad-8f05250cf7b7",
   "metadata": {},
   "outputs": [],
   "source": []
  }
 ],
 "metadata": {
  "kernelspec": {
   "display_name": "cudf_torch",
   "language": "python",
   "name": "cudf_torch"
  },
  "language_info": {
   "codemirror_mode": {
    "name": "ipython",
    "version": 3
   },
   "file_extension": ".py",
   "mimetype": "text/x-python",
   "name": "python",
   "nbconvert_exporter": "python",
   "pygments_lexer": "ipython3",
   "version": "3.10.11"
  }
 },
 "nbformat": 4,
 "nbformat_minor": 5
}
