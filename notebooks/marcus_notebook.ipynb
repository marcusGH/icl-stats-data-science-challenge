{
 "cells": [
  {
   "cell_type": "markdown",
   "id": "96b86bf1-b0f5-4d09-ab86-37216740fb1a",
   "metadata": {},
   "source": [
    "# ICL data science challenge"
   ]
  },
  {
   "cell_type": "markdown",
   "id": "6bd8fa1a-0fb1-4bc6-96a2-b70db2623526",
   "metadata": {
    "tags": []
   },
   "source": [
    "## EDA"
   ]
  },
  {
   "cell_type": "code",
   "execution_count": 11,
   "id": "6b6a0802-7e0b-4f12-abe2-4b139b168971",
   "metadata": {
    "tags": []
   },
   "outputs": [],
   "source": [
    "import pandas as pd\n",
    "import numpy as np\n",
    "import re"
   ]
  },
  {
   "cell_type": "code",
   "execution_count": 37,
   "id": "a54612a9-600d-40b2-b097-688888921625",
   "metadata": {
    "tags": []
   },
   "outputs": [],
   "source": [
    "train_path = \"../input/raw/train.csv\"\n",
    "preprocessed_path = \"../input/derived/train-preprocessed.csv\"\n",
    "cols = None\n",
    "data_lines = []\n",
    "\n",
    "with open(train_path, \"rt\") as fin:\n",
    "    with open(preprocessed_path, \"wt\") as fout:\n",
    "        for line in fin:\n",
    "            fout.write(line.replace('\\\\\"', \"'\"))\n",
    "\n",
    "\n",
    "# with open(train_path, \"r\") as f:\n",
    "#     for i, line in enumerate(f):\n",
    "#         if i == 0:\n",
    "#             cols = [re.sub('\\s+', '', x.strip('\"')).strip('\"') for x in line.split(\" \")]\n",
    "#         else:\n",
    "#             data_lines.append(line.split(' '))\n",
    "#             #print(len(data_lines[-1]))\n",
    "\n",
    "# print(len(cols))"
   ]
  },
  {
   "cell_type": "code",
   "execution_count": 53,
   "id": "20697b9f-5368-47e0-9e68-b9413eef11a6",
   "metadata": {
    "tags": []
   },
   "outputs": [
    {
     "data": {
      "text/plain": [
       "Index                                     234\n",
       "Artist                         Camila Cabello\n",
       "Track               Havana (feat. Young Thug)\n",
       "Album                                  Camila\n",
       "danceability                            0.765\n",
       "energy                                  0.523\n",
       "loudness                               -4.333\n",
       "speechiness                              0.03\n",
       "acousticness                            0.184\n",
       "instrumentalness                     0.000036\n",
       "liveness                                0.132\n",
       "tempo                                 104.988\n",
       "length                                 217307\n",
       "time_signature                              4\n",
       "A                                           0\n",
       "B                                           1\n",
       "C                                           1\n",
       "D                                           1\n",
       "AnB                                         0\n",
       "AnC                                         0\n",
       "AnD                                         0\n",
       "BnC                                         1\n",
       "BnD                                         1\n",
       "CnD                                         1\n",
       "AnBnC                                       0\n",
       "AnBnD                                       0\n",
       "AnCnD                                       1\n",
       "BnCnD                                       0\n",
       "AnBnCnD                                     0\n",
       "Name: 233, dtype: object"
      ]
     },
     "execution_count": 53,
     "metadata": {},
     "output_type": "execute_result"
    }
   ],
   "source": [
    "df = pd.read_csv(preprocessed_path, sep=r'\\s+', quotechar='\"')\n",
    "df.iloc[233]"
   ]
  },
  {
   "cell_type": "code",
   "execution_count": 48,
   "id": "5de56acd-a76e-4b22-8b46-5f8008075947",
   "metadata": {
    "tags": []
   },
   "outputs": [
    {
     "data": {
      "text/plain": [
       "0"
      ]
     },
     "execution_count": 48,
     "metadata": {},
     "output_type": "execute_result"
    }
   ],
   "source": [
    "df.iloc[3]['C']"
   ]
  },
  {
   "cell_type": "code",
   "execution_count": 51,
   "id": "cb830b4c-7d81-4057-89ad-8f05250cf7b7",
   "metadata": {},
   "outputs": [
    {
     "name": "stdout",
     "output_type": "stream",
     "text": [
      "234 A\n",
      "330 B\n",
      "752 A\n",
      "2016 B\n",
      "2261 A\n",
      "2419 A\n",
      "3531 B\n",
      "3863 B\n",
      "3873 B\n",
      "3873 B\n",
      "4375 A\n",
      "4997 B\n",
      "5230 B\n",
      "5466 B\n",
      "6337 A\n",
      "6362 A\n",
      "6627 B\n",
      "7372 B\n",
      "7432 A\n"
     ]
    }
   ],
   "source": [
    "temp = ['AnB', 'AnC', 'AnD', 'BnC', 'BnD', 'CnD',\n",
    "        'AnBnC', 'AnBnD', 'AnCnD', 'BnCnD', 'AnBnCnD']\n",
    "for i in range(len(df['A'])):\n",
    "    for c in temp:\n",
    "        row = df.iloc[i]\n",
    "        if row[c] == 1:\n",
    "            if 'A' in c:\n",
    "                if row['A'] == 0:\n",
    "                    print(row['Index'], 'A')\n",
    "            if 'B' in c:\n",
    "                if row['B'] == 0:\n",
    "                    print(row['Index'], 'B')\n",
    "            if 'C' in c:\n",
    "                if row['C'] == 0:\n",
    "                    print(row['Index'], 'C')\n",
    "            if 'D' in c:\n",
    "                if row['D'] == 0:\n",
    "                    print(row['Index'], 'D')"
   ]
  },
  {
   "cell_type": "code",
   "execution_count": 43,
   "id": "0cdd9c68-ea55-4c39-bfe4-1167608f61fe",
   "metadata": {
    "tags": []
   },
   "outputs": [
    {
     "data": {
      "text/plain": [
       "Index(['Index', 'Artist', 'Track', 'Album', 'danceability', 'energy',\n",
       "       'loudness', 'speechiness', 'acousticness', 'instrumentalness',\n",
       "       'liveness', 'tempo', 'length', 'time_signature', 'A', 'B', 'C', 'D',\n",
       "       'AnB', 'AnC', 'AnD', 'BnC', 'BnD', 'CnD', 'AnBnC', 'AnBnD', 'AnCnD',\n",
       "       'BnCnD', 'AnBnCnD'],\n",
       "      dtype='object')"
      ]
     },
     "execution_count": 43,
     "metadata": {},
     "output_type": "execute_result"
    }
   ],
   "source": [
    "df.columns"
   ]
  }
 ],
 "metadata": {
  "kernelspec": {
   "display_name": "cudf_torch",
   "language": "python",
   "name": "cudf_torch"
  },
  "language_info": {
   "codemirror_mode": {
    "name": "ipython",
    "version": 3
   },
   "file_extension": ".py",
   "mimetype": "text/x-python",
   "name": "python",
   "nbconvert_exporter": "python",
   "pygments_lexer": "ipython3",
   "version": "3.10.11"
  }
 },
 "nbformat": 4,
 "nbformat_minor": 5
}
